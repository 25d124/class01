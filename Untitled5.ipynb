{
  "nbformat": 4,
  "nbformat_minor": 0,
  "metadata": {
    "colab": {
      "provenance": [],
      "authorship_tag": "ABX9TyMW+jr29zJ70yzBKvPGtbf8",
      "include_colab_link": true
    },
    "kernelspec": {
      "name": "python3",
      "display_name": "Python 3"
    },
    "language_info": {
      "name": "python"
    }
  },
  "cells": [
    {
      "cell_type": "markdown",
      "metadata": {
        "id": "view-in-github",
        "colab_type": "text"
      },
      "source": [
        "<a href=\"https://colab.research.google.com/github/25d124/class01/blob/main/Untitled5.ipynb\" target=\"_parent\"><img src=\"https://colab.research.google.com/assets/colab-badge.svg\" alt=\"Open In Colab\"/></a>"
      ]
    },
    {
      "cell_type": "code",
      "execution_count": null,
      "metadata": {
        "colab": {
          "base_uri": "https://localhost:8080/"
        },
        "id": "2BKEFvUYOWzR",
        "outputId": "cdda2864-1b55-4013-e4c3-bf7ad0d52448"
      },
      "outputs": [
        {
          "output_type": "stream",
          "name": "stdout",
          "text": [
            "나라 초성 게임을 시작합니다!\n",
            "초성: ㅇㅌㄹㅇ\n",
            "나라는? 이탈리아\n",
            "정답입니다!\n",
            "초성: ㄷㅇ\n"
          ]
        }
      ],
      "source": [
        "\n",
        "# prompt: 간단한 나라 초성게임을 만들어줘\n",
        "\n",
        "import random\n",
        "\n",
        "nations = {\n",
        "    \"대한민국\": \"ㄷㅎㅁㄱ\",\n",
        "    \"미국\": \"ㅁㄱ\",\n",
        "    \"중국\": \"ㅈㄱ\",\n",
        "    \"일본\": \"ㅇㅂ\",\n",
        "    \"프랑스\": \"ㅍㄹㅅ\",\n",
        "    \"독일\": \"ㄷㅇ\",\n",
        "    \"영국\": \"ㅇㄱ\",\n",
        "    \"이탈리아\": \"ㅇㅌㄹㅇ\",\n",
        "    \"스페인\": \"ㅅㅍㅇ\",\n",
        "    \"러시아\": \"ㄹㅅㅇ\",\n",
        "}\n",
        "\n",
        "def get_chosung(word):\n",
        "    \"\"\"단어의 초성만 추출하는 함수\"\"\"\n",
        "    CHOSUNG_START = 4352\n",
        "    CHOSUNG_END = 4367\n",
        "    HANGEUL_START = 44032\n",
        "    HANGEUL_END = 55203\n",
        "    HANGEUL_BASE = 588\n",
        "\n",
        "    chosung = \"\"\n",
        "    for char in word:\n",
        "        if '가' <= char <= '힣':\n",
        "            char_code = ord(char)\n",
        "            chosung_index = (char_code - HANGEUL_START) // HANGEUL_BASE\n",
        "            chosung += chr(CHOSUNG_START + chosung_index)\n",
        "        else:\n",
        "            chosung += char  # 한글이 아닌 문자는 그대로 추가\n",
        "    return chosung\n",
        "\n",
        "def play_game():\n",
        "    \"\"\"나라 초성 게임을 실행하는 함수\"\"\"\n",
        "    print(\"나라 초성 게임을 시작합니다!\")\n",
        "    score = 0\n",
        "    nation_list = list(nations.keys())\n",
        "    random.shuffle(nation_list)\n",
        "\n",
        "    for nation in nation_list:\n",
        "        chosung = nations[nation] # 미리 정의된 초성 사용\n",
        "        # chosung = get_chosung(nation) # 함수로 초성 생성 시 사용\n",
        "        print(f\"초성: {chosung}\")\n",
        "        answer = input(\"나라는? \").strip()\n",
        "\n",
        "        if answer == nation:\n",
        "            print(\"정답입니다!\")\n",
        "            score += 1\n",
        "        else:\n",
        "            print(f\"틀렸습니다. 정답은 {nation} 입니다.\")\n",
        "\n",
        "    print(f\"\\n게임 종료! 당신의 점수는 {score}/{len(nations)} 점 입니다.\")\n",
        "\n",
        "# 게임 실행\n",
        "play_game()\n"
      ]
    }
  ]
}