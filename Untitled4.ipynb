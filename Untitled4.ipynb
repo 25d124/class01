{
  "nbformat": 4,
  "nbformat_minor": 0,
  "metadata": {
    "colab": {
      "provenance": [],
      "authorship_tag": "ABX9TyObvodE3eqorPjaTSVh3JHQ",
      "include_colab_link": true
    },
    "kernelspec": {
      "name": "python3",
      "display_name": "Python 3"
    },
    "language_info": {
      "name": "python"
    }
  },
  "cells": [
    {
      "cell_type": "markdown",
      "metadata": {
        "id": "view-in-github",
        "colab_type": "text"
      },
      "source": [
        "<a href=\"https://colab.research.google.com/github/25d124/class01/blob/main/Untitled4.ipynb\" target=\"_parent\"><img src=\"https://colab.research.google.com/assets/colab-badge.svg\" alt=\"Open In Colab\"/></a>"
      ]
    },
    {
      "cell_type": "code",
      "execution_count": null,
      "metadata": {
        "colab": {
          "base_uri": "https://localhost:8080/"
        },
        "id": "BUcJjQP6XFyz",
        "outputId": "1de661ab-dc88-4231-cdd4-119e8c371941"
      },
      "outputs": [
        {
          "output_type": "stream",
          "name": "stdout",
          "text": [
            "초등학교 1학년 덧셈 게임을 시작합니다!\n"
          ]
        }
      ],
      "source": [
        "# prompt: 초등학교 1학년 덧셈 게임을 만들어줘 기회는5번으로 일의 자리+일의자리로\n",
        "\n",
        "import random\n",
        "\n",
        "def elementary_addition_game():\n",
        "  \"\"\"초등학교 1학년 덧셈 게임\"\"\"\n",
        "\n",
        "  score = 0\n",
        "  chances = 5\n",
        "\n",
        "  print(\"초등학교 1학년 덧셈 게임을 시작합니다!\")\n",
        "\n",
        "  for _ in range(chances):\n",
        "    num1 = random.randint(0, 9)\n",
        "    num2 = random.randint(0, 9)\n",
        "    answer = num1 + num2\n",
        "\n",
        "    user_answer = input(f\"{num1} + {num2} = ? \")\n",
        "\n",
        "    try:\n",
        "      user_answer = int(user_answer)\n",
        "      if user_answer == answer:\n",
        "        print(\"정답입니다!\")\n",
        "        score += 1\n",
        "      else:\n",
        "        print(f\"틀렸습니다. 정답은 {answer}입니다.\")\n",
        "    except ValueError:\n",
        "      print(\"숫자를 입력해주세요.\")\n",
        "\n",
        "  print(f\"\\n게임 종료! {chances}번의 기회 중 {score}번 맞혔습니다.\")\n",
        "\n",
        "if __name__ == \"__main__\":\n",
        "  elementary_addition_game()\n"
      ]
    }
  ]
}